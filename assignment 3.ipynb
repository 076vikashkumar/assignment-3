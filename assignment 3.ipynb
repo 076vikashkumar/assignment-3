{
 "cells": [
  {
   "cell_type": "markdown",
   "metadata": {},
   "source": [
    " # 1.Write a Python function to find the Max of three numbers."
   ]
  },
  {
   "cell_type": "code",
   "execution_count": 27,
   "metadata": {},
   "outputs": [
    {
     "name": "stdout",
     "output_type": "stream",
     "text": [
      "Enter first number: 2\n",
      "Enter second number: 4\n",
      "Enter Third number: 5\n",
      "Largest number among  the three is 5\n"
     ]
    }
   ],
   "source": [
    "n1=int(input(\"Enter first number: \"));\n",
    "\n",
    "n2=int(input(\"Enter second number: \"));\n",
    "\n",
    "n3=int(input(\"Enter Third number: \"));\n",
    "\n",
    "def maxx():\n",
    "\n",
    "    if(n1>=n2) and (n1>=n3):\n",
    "\n",
    "        l=n1\n",
    "\n",
    "    elif(n2>=n1) and (n2>=n3):\n",
    "\n",
    "         l=n2\n",
    "\n",
    "    else:\n",
    "\n",
    "         l=n3\n",
    "\n",
    "    print(\"Largest number among  the three is\",l)\n",
    "\n",
    "maxx()"
   ]
  },
  {
   "cell_type": "markdown",
   "metadata": {},
   "source": [
    "# 2.Write a Python function to multiply all the numbers in a list"
   ]
  },
  {
   "cell_type": "code",
   "execution_count": 28,
   "metadata": {},
   "outputs": [
    {
     "name": "stdout",
     "output_type": "stream",
     "text": [
      "24\n"
     ]
    }
   ],
   "source": [
    "a = [2, 3, 4]\n",
    "b = 1\n",
    "\n",
    "for i in a:\n",
    "    b = b * i\n",
    "\n",
    "\n",
    "print(b)"
   ]
  },
  {
   "cell_type": "markdown",
   "metadata": {},
   "source": [
    "# 3.Write a Python function that accepts a string and calculate the number of upper case letters and lower case letters"
   ]
  },
  {
   "cell_type": "code",
   "execution_count": 29,
   "metadata": {},
   "outputs": [
    {
     "name": "stdout",
     "output_type": "stream",
     "text": [
      "Enter a string: aditi\n",
      "The lower case letters: 5\n",
      "The upper case letters: 0\n"
     ]
    }
   ],
   "source": [
    "str =input(\"Enter a string: \")\n",
    "upper=0\n",
    "lower=0\n",
    "for i in str:\n",
    "    if (i.islower()):\n",
    "        lower=lower+1\n",
    "    elif (i.isupper()):\n",
    "        upper=upper+1\n",
    "\n",
    "print(\"The lower case letters:\",lower)\n",
    "print(\"The upper case letters:\",upper)"
   ]
  },
  {
   "cell_type": "markdown",
   "metadata": {},
   "source": [
    "# 4.Python function that checks whether a passed string is palindrome or not"
   ]
  },
  {
   "cell_type": "code",
   "execution_count": 30,
   "metadata": {},
   "outputs": [
    {
     "name": "stdout",
     "output_type": "stream",
     "text": [
      "no\n"
     ]
    }
   ],
   "source": [
    "def ispalindrome(s):\n",
    "    return s ==s[::-1]\n",
    "s =\"machine\"\n",
    "ans = ispalindrome(s)\n",
    "if ans:\n",
    "    print(\"yes\")\n",
    "else:\n",
    "  print(\"no\")"
   ]
  },
  {
   "cell_type": "markdown",
   "metadata": {},
   "source": [
    "# 5.Write a Python program to print the even numbers from a given list"
   ]
  },
  {
   "cell_type": "code",
   "execution_count": 31,
   "metadata": {},
   "outputs": [
    {
     "name": "stdout",
     "output_type": "stream",
     "text": [
      "[2, 4, 6, 8]\n"
     ]
    }
   ],
   "source": [
    "def p_even(l):\n",
    "    b = []\n",
    "    for num in l:\n",
    "        if num %2 == 0:\n",
    "            b.append(num) \n",
    "    return b\n",
    "print(p_even([1, 2, 3, 4, 5, 6, 7, 8, 9]))       "
   ]
  }
 ],
 "metadata": {
  "kernelspec": {
   "display_name": "Python 3",
   "language": "python",
   "name": "python3"
  },
  "language_info": {
   "codemirror_mode": {
    "name": "ipython",
    "version": 3
   },
   "file_extension": ".py",
   "mimetype": "text/x-python",
   "name": "python",
   "nbconvert_exporter": "python",
   "pygments_lexer": "ipython3",
   "version": "3.7.6"
  }
 },
 "nbformat": 4,
 "nbformat_minor": 5
}
